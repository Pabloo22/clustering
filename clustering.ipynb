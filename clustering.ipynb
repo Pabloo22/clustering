{
 "cells": [
  {
   "attachments": {},
   "cell_type": "markdown",
   "metadata": {},
   "source": [
    "# Clusterig of the dataset Tabular Playground Series - Jul 2022\n",
    "\n",
    "Pablo Ariño Fernández, Álvaro Laguna García\n",
    "\n",
    "## Initialization of the dvc project\n",
    "\n",
    "```bash\n",
    "dvc init\n",
    "```\n",
    "\n",
    "Then, we download `data.csv` from Kaggle, we save it to the data folder and we add it to the dvc project:\n",
    "\n",
    "```bash\n",
    "dvc add data/data.csv\n",
    "```\n",
    "\n",
    "We can now commit the changes to the git repository:\n",
    "\n",
    "```bash\n",
    "dvc commit\n",
    "git add data/data.csv.dvc\n",
    "git commit -m \"Added Tabular Playground Series - Jul 2022 dataset\"      \n",
    "```\n",
    "\n"
   ]
  },
  {
   "attachments": {},
   "cell_type": "markdown",
   "metadata": {},
   "source": []
  }
 ],
 "metadata": {
  "language_info": {
   "name": "python"
  },
  "orig_nbformat": 4
 },
 "nbformat": 4,
 "nbformat_minor": 2
}
